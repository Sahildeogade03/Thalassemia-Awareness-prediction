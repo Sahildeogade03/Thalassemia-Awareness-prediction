{
  "cells": [
    {
      "cell_type": "code",
      "execution_count": 4,
      "metadata": {
        "id": "KMnQuZ_vb00y"
      },
      "outputs": [],
      "source": [
        "import pandas as pd\n",
        "import matplotlib.pyplot as plt\n",
        "import seaborn as sns\n",
        "import numpy as np"
      ]
    },
    {
      "cell_type": "code",
      "execution_count": 5,
      "metadata": {
        "id": "SAyyJP6kbAyv"
      },
      "outputs": [],
      "source": [
        "df = pd.read_excel(\"cbc_information.xlsx\")"
      ]
    },
    {
      "cell_type": "code",
      "execution_count": 6,
      "metadata": {
        "colab": {
          "base_uri": "https://localhost:8080/",
          "height": 235
        },
        "id": "0KutoyNwcfTp",
        "outputId": "9bb6ff59-15ff-4127-acb4-f9a8a05c657c"
      },
      "outputs": [
        {
          "data": {
            "text/html": [
              "<div>\n",
              "<style scoped>\n",
              "    .dataframe tbody tr th:only-of-type {\n",
              "        vertical-align: middle;\n",
              "    }\n",
              "\n",
              "    .dataframe tbody tr th {\n",
              "        vertical-align: top;\n",
              "    }\n",
              "\n",
              "    .dataframe thead th {\n",
              "        text-align: right;\n",
              "    }\n",
              "</style>\n",
              "<table border=\"1\" class=\"dataframe\">\n",
              "  <thead>\n",
              "    <tr style=\"text-align: right;\">\n",
              "      <th></th>\n",
              "      <th>ID</th>\n",
              "      <th>WBC</th>\n",
              "      <th>LYMp</th>\n",
              "      <th>MIDp</th>\n",
              "      <th>NEUTp</th>\n",
              "      <th>LYMn</th>\n",
              "      <th>MIDn</th>\n",
              "      <th>NEUTn</th>\n",
              "      <th>RBC</th>\n",
              "      <th>HGB</th>\n",
              "      <th>...</th>\n",
              "      <th>MCV</th>\n",
              "      <th>MCH</th>\n",
              "      <th>MCHC</th>\n",
              "      <th>RDWSD</th>\n",
              "      <th>RDWCV</th>\n",
              "      <th>PLT</th>\n",
              "      <th>MPV</th>\n",
              "      <th>PDW</th>\n",
              "      <th>PCT</th>\n",
              "      <th>PLCR</th>\n",
              "    </tr>\n",
              "  </thead>\n",
              "  <tbody>\n",
              "    <tr>\n",
              "      <th>0</th>\n",
              "      <td>1</td>\n",
              "      <td>10.0</td>\n",
              "      <td>43.2</td>\n",
              "      <td>6.7</td>\n",
              "      <td>50.1</td>\n",
              "      <td>4.3</td>\n",
              "      <td>0.7</td>\n",
              "      <td>5.0</td>\n",
              "      <td>2.77</td>\n",
              "      <td>7.3</td>\n",
              "      <td>...</td>\n",
              "      <td>87.7</td>\n",
              "      <td>26.3</td>\n",
              "      <td>30.1</td>\n",
              "      <td>35.3</td>\n",
              "      <td>11.4</td>\n",
              "      <td>189.0</td>\n",
              "      <td>9.2</td>\n",
              "      <td>12.5</td>\n",
              "      <td>0.17</td>\n",
              "      <td>22.3</td>\n",
              "    </tr>\n",
              "    <tr>\n",
              "      <th>1</th>\n",
              "      <td>2</td>\n",
              "      <td>10.0</td>\n",
              "      <td>42.4</td>\n",
              "      <td>5.3</td>\n",
              "      <td>52.3</td>\n",
              "      <td>4.2</td>\n",
              "      <td>0.5</td>\n",
              "      <td>5.3</td>\n",
              "      <td>2.84</td>\n",
              "      <td>7.3</td>\n",
              "      <td>...</td>\n",
              "      <td>88.2</td>\n",
              "      <td>25.7</td>\n",
              "      <td>20.2</td>\n",
              "      <td>35.3</td>\n",
              "      <td>11.4</td>\n",
              "      <td>180.0</td>\n",
              "      <td>8.9</td>\n",
              "      <td>12.5</td>\n",
              "      <td>0.16</td>\n",
              "      <td>19.5</td>\n",
              "    </tr>\n",
              "    <tr>\n",
              "      <th>2</th>\n",
              "      <td>3</td>\n",
              "      <td>7.2</td>\n",
              "      <td>30.7</td>\n",
              "      <td>8.6</td>\n",
              "      <td>60.7</td>\n",
              "      <td>2.2</td>\n",
              "      <td>0.6</td>\n",
              "      <td>4.4</td>\n",
              "      <td>3.97</td>\n",
              "      <td>9.0</td>\n",
              "      <td>...</td>\n",
              "      <td>77.0</td>\n",
              "      <td>22.6</td>\n",
              "      <td>29.5</td>\n",
              "      <td>37.2</td>\n",
              "      <td>13.7</td>\n",
              "      <td>148.0</td>\n",
              "      <td>10.1</td>\n",
              "      <td>14.3</td>\n",
              "      <td>0.14</td>\n",
              "      <td>30.5</td>\n",
              "    </tr>\n",
              "    <tr>\n",
              "      <th>3</th>\n",
              "      <td>4</td>\n",
              "      <td>6.0</td>\n",
              "      <td>30.2</td>\n",
              "      <td>6.3</td>\n",
              "      <td>63.5</td>\n",
              "      <td>1.8</td>\n",
              "      <td>0.4</td>\n",
              "      <td>3.8</td>\n",
              "      <td>4.22</td>\n",
              "      <td>3.8</td>\n",
              "      <td>...</td>\n",
              "      <td>77.9</td>\n",
              "      <td>23.2</td>\n",
              "      <td>29.8</td>\n",
              "      <td>46.5</td>\n",
              "      <td>17.0</td>\n",
              "      <td>143.0</td>\n",
              "      <td>8.6</td>\n",
              "      <td>11.3</td>\n",
              "      <td>0.12</td>\n",
              "      <td>16.4</td>\n",
              "    </tr>\n",
              "    <tr>\n",
              "      <th>4</th>\n",
              "      <td>5</td>\n",
              "      <td>4.2</td>\n",
              "      <td>39.1</td>\n",
              "      <td>7.2</td>\n",
              "      <td>53.7</td>\n",
              "      <td>1.6</td>\n",
              "      <td>0.3</td>\n",
              "      <td>2.3</td>\n",
              "      <td>3.93</td>\n",
              "      <td>0.4</td>\n",
              "      <td>...</td>\n",
              "      <td>80.6</td>\n",
              "      <td>23.9</td>\n",
              "      <td>29.7</td>\n",
              "      <td>42.7</td>\n",
              "      <td>15.1</td>\n",
              "      <td>236.0</td>\n",
              "      <td>19.5</td>\n",
              "      <td>12.8</td>\n",
              "      <td>0.22</td>\n",
              "      <td>24.8</td>\n",
              "    </tr>\n",
              "  </tbody>\n",
              "</table>\n",
              "<p>5 rows × 21 columns</p>\n",
              "</div>"
            ],
            "text/plain": [
              "   ID   WBC  LYMp  MIDp  NEUTp  LYMn  MIDn  NEUTn   RBC  HGB  ...   MCV   MCH  \\\n",
              "0   1  10.0  43.2   6.7   50.1   4.3   0.7    5.0  2.77  7.3  ...  87.7  26.3   \n",
              "1   2  10.0  42.4   5.3   52.3   4.2   0.5    5.3  2.84  7.3  ...  88.2  25.7   \n",
              "2   3   7.2  30.7   8.6   60.7   2.2   0.6    4.4  3.97  9.0  ...  77.0  22.6   \n",
              "3   4   6.0  30.2   6.3   63.5   1.8   0.4    3.8  4.22  3.8  ...  77.9  23.2   \n",
              "4   5   4.2  39.1   7.2   53.7   1.6   0.3    2.3  3.93  0.4  ...  80.6  23.9   \n",
              "\n",
              "   MCHC  RDWSD  RDWCV    PLT   MPV   PDW   PCT  PLCR  \n",
              "0  30.1   35.3   11.4  189.0   9.2  12.5  0.17  22.3  \n",
              "1  20.2   35.3   11.4  180.0   8.9  12.5  0.16  19.5  \n",
              "2  29.5   37.2   13.7  148.0  10.1  14.3  0.14  30.5  \n",
              "3  29.8   46.5   17.0  143.0   8.6  11.3  0.12  16.4  \n",
              "4  29.7   42.7   15.1  236.0  19.5  12.8  0.22  24.8  \n",
              "\n",
              "[5 rows x 21 columns]"
            ]
          },
          "execution_count": 6,
          "metadata": {},
          "output_type": "execute_result"
        }
      ],
      "source": [
        "df.head()"
      ]
    },
    {
      "cell_type": "code",
      "execution_count": 7,
      "metadata": {
        "id": "_Z-bmgZOhlyR"
      },
      "outputs": [],
      "source": [
        "# ID: Patients Identifier\n",
        "# WBC: White Blood Cell, Normal Ranges: 4.0 to 10.0, Unit: 10^9/L.\n",
        "# LYMp: Lymphocytes percentage, which is a type of white blood cell, Normal Ranges: 20.0 to 40.0, Unit: %\n",
        "# MIDp: Indicates the percentage combined value of the other types of white blood cells not classified as lymphocytes or granulocytes, Normal Ranges: 1.0 to 15.0, Unit: %\n",
        "# NEUTp: Neutrophils are a type of white blood cell (leukocytes); neutrophils percentage, Normal Ranges: 50.0 to 70.0, Unit: %\n",
        "# LYMn: Lymphocytes number are a type of white blood cell, Normal Ranges: 0.6 to 4.1, Unit: 10^9/L.\n",
        "# MIDn: Indicates the combined number of other white blood cells not classified as lymphocytes or granulocytes, Normal Ranges: 0.1 to 1.8, Unit: 10^9/L.\n",
        "# NEUTn: Neutrophils Number, Normal Ranges: 2.0 to 7.8, Unit: 10^9/L.\n",
        "# RBC: Red Blood Cell, Normal Ranges: 3.50 to 5.50, Unit: 10^12/L\n",
        "# HGB: Hemoglobin, Normal Ranges: 11.0 to 16.0, Unit: g/dL\n",
        "# HCT: Hematocrit is the proportion, by volume, of the Blood that consists of red blood cells, Normal Ranges: 36.0 to 48.0, Unit: %\n",
        "# MCV: Mean Corpuscular Volume, Normal Ranges: 80.0 to 99.0, Unit: fL\n",
        "# MCH: Mean Corpuscular Hemoglobin is the average amount of haemoglobin in the average red cell, Normal Ranges: 26.0 to 32.0, Unit: pg\n",
        "# MCHC: Mean Corpuscular Hemoglobin Concentration, Normal Ranges: 32.0 to 36.0, Unit: g/dL\n",
        "# RDWSD: Red Blood Cell Distribution Width, Normal Ranges: 37.0 to 54.0, Unit: fL\n",
        "# RDWCV: Red blood cell distribution width, Normal Ranges: 11.5 to 14.5, Unit: %\n",
        "# PLT: Platelet Count, Normal Ranges: 100 to 400, Unit: 10^9/L\n",
        "# MPV: Mean Platelet Volume, Normal Ranges: 7.4 to 10.4, Unit: fL\n",
        "# PDW: Red Cell Distribution Width, Normal Ranges: 10.0 to 17.0, Unit: %\n",
        "# PCT: The level of Procalcitonin in the Blood, Normal Ranges: 0.10 to 0.28, Unit: %\n",
        "## PLCR: Platelet Large Cell Ratio, Normal Ranges: 13.0 to 43.0, Unit: %"
      ]
    },
    {
      "cell_type": "code",
      "execution_count": 8,
      "metadata": {
        "id": "I_GmtqOChowU"
      },
      "outputs": [],
      "source": [
        "# All the below data is according to this research paper\n",
        "#https://www.ncbi.nlm.nih.gov/books/NBK190583/\n",
        "\n",
        "#https://www.ncbi.nlm.nih.gov/books/NBK545151/"
      ]
    },
    {
      "cell_type": "code",
      "execution_count": 9,
      "metadata": {
        "id": "R1Ngc6y0hsaB"
      },
      "outputs": [],
      "source": [
        "# The most widely used cut-off values of MCV and MCH for indicating thalassaemia are 79 fl and 27 pg, respectively."
      ]
    },
    {
      "cell_type": "code",
      "execution_count": 10,
      "metadata": {
        "id": "WFx-t36XhvDl"
      },
      "outputs": [],
      "source": [
        "# Silent β-thalassemia carriers: Normal or slightly reduced MCV and MCH\n",
        "# Carriers of both β and α-thalassemia: May have normal MCV and MCH.\n",
        "# α-thalassemia carriers: Generally have lower MCV and MCH.\n",
        "# α+-thalassemia (-α/αα) carriers: May have normal or reduced MCV and MCH.\n",
        "# α-thalassemia (-α/-α or --/αα) carriers: Always have reduced MCV and MCH.\n",
        "\n",
        "# Mild/Minor thalassemia (Hb: 6 to 10g/dl)\n",
        "# Moderate to severe thalassemia (Hb less than 5 to 6g/dl)"
      ]
    },
    {
      "cell_type": "code",
      "execution_count": 11,
      "metadata": {
        "id": "zbip6Ns0hzMv"
      },
      "outputs": [],
      "source": [
        "# Silent β-thalassemia carriers or Thalassemia Minor  : Increased RBC count\n",
        "#                                                       Decreased MCV: 60–70 fL\n",
        "#                                                       Decreased MCH: 19–23 pg\n",
        "#                                                       Hemoglobin: Can range from 2 g/dL to normal"
      ]
    },
    {
      "cell_type": "code",
      "execution_count": 12,
      "metadata": {
        "id": "rMDz2AF2h3nU"
      },
      "outputs": [],
      "source": [
        "# Beta thalassemia major : Hemoglobin level: Usually less than 7 g/dL\n",
        "#                          MCH: Low, less than 20 pg"
      ]
    },
    {
      "cell_type": "code",
      "execution_count": 13,
      "metadata": {
        "id": "mcupwgMMlie3"
      },
      "outputs": [],
      "source": [
        "df = pd.DataFrame(df)"
      ]
    },
    {
      "cell_type": "code",
      "execution_count": 14,
      "metadata": {
        "colab": {
          "base_uri": "https://localhost:8080/",
          "height": 423
        },
        "id": "DUGX0yDPlyuL",
        "outputId": "665d608a-8a8e-4eac-f8de-7ba388321249"
      },
      "outputs": [
        {
          "data": {
            "text/html": [
              "<div>\n",
              "<style scoped>\n",
              "    .dataframe tbody tr th:only-of-type {\n",
              "        vertical-align: middle;\n",
              "    }\n",
              "\n",
              "    .dataframe tbody tr th {\n",
              "        vertical-align: top;\n",
              "    }\n",
              "\n",
              "    .dataframe thead th {\n",
              "        text-align: right;\n",
              "    }\n",
              "</style>\n",
              "<table border=\"1\" class=\"dataframe\">\n",
              "  <thead>\n",
              "    <tr style=\"text-align: right;\">\n",
              "      <th></th>\n",
              "      <th>ID</th>\n",
              "      <th>WBC</th>\n",
              "      <th>LYMp</th>\n",
              "      <th>MIDp</th>\n",
              "      <th>NEUTp</th>\n",
              "      <th>LYMn</th>\n",
              "      <th>MIDn</th>\n",
              "      <th>NEUTn</th>\n",
              "      <th>RBC</th>\n",
              "      <th>HGB</th>\n",
              "      <th>...</th>\n",
              "      <th>MCV</th>\n",
              "      <th>MCH</th>\n",
              "      <th>MCHC</th>\n",
              "      <th>RDWSD</th>\n",
              "      <th>RDWCV</th>\n",
              "      <th>PLT</th>\n",
              "      <th>MPV</th>\n",
              "      <th>PDW</th>\n",
              "      <th>PCT</th>\n",
              "      <th>PLCR</th>\n",
              "    </tr>\n",
              "  </thead>\n",
              "  <tbody>\n",
              "    <tr>\n",
              "      <th>0</th>\n",
              "      <td>1</td>\n",
              "      <td>10.0</td>\n",
              "      <td>43.2</td>\n",
              "      <td>6.7</td>\n",
              "      <td>50.1</td>\n",
              "      <td>4.3</td>\n",
              "      <td>0.7</td>\n",
              "      <td>5.0</td>\n",
              "      <td>2.77</td>\n",
              "      <td>7.3</td>\n",
              "      <td>...</td>\n",
              "      <td>87.7</td>\n",
              "      <td>26.3</td>\n",
              "      <td>30.1</td>\n",
              "      <td>35.3</td>\n",
              "      <td>11.4</td>\n",
              "      <td>189.0</td>\n",
              "      <td>9.2</td>\n",
              "      <td>12.5</td>\n",
              "      <td>0.17</td>\n",
              "      <td>22.30</td>\n",
              "    </tr>\n",
              "    <tr>\n",
              "      <th>1</th>\n",
              "      <td>2</td>\n",
              "      <td>10.0</td>\n",
              "      <td>42.4</td>\n",
              "      <td>5.3</td>\n",
              "      <td>52.3</td>\n",
              "      <td>4.2</td>\n",
              "      <td>0.5</td>\n",
              "      <td>5.3</td>\n",
              "      <td>2.84</td>\n",
              "      <td>7.3</td>\n",
              "      <td>...</td>\n",
              "      <td>88.2</td>\n",
              "      <td>25.7</td>\n",
              "      <td>20.2</td>\n",
              "      <td>35.3</td>\n",
              "      <td>11.4</td>\n",
              "      <td>180.0</td>\n",
              "      <td>8.9</td>\n",
              "      <td>12.5</td>\n",
              "      <td>0.16</td>\n",
              "      <td>19.50</td>\n",
              "    </tr>\n",
              "    <tr>\n",
              "      <th>2</th>\n",
              "      <td>3</td>\n",
              "      <td>7.2</td>\n",
              "      <td>30.7</td>\n",
              "      <td>8.6</td>\n",
              "      <td>60.7</td>\n",
              "      <td>2.2</td>\n",
              "      <td>0.6</td>\n",
              "      <td>4.4</td>\n",
              "      <td>3.97</td>\n",
              "      <td>9.0</td>\n",
              "      <td>...</td>\n",
              "      <td>77.0</td>\n",
              "      <td>22.6</td>\n",
              "      <td>29.5</td>\n",
              "      <td>37.2</td>\n",
              "      <td>13.7</td>\n",
              "      <td>148.0</td>\n",
              "      <td>10.1</td>\n",
              "      <td>14.3</td>\n",
              "      <td>0.14</td>\n",
              "      <td>30.50</td>\n",
              "    </tr>\n",
              "    <tr>\n",
              "      <th>3</th>\n",
              "      <td>4</td>\n",
              "      <td>6.0</td>\n",
              "      <td>30.2</td>\n",
              "      <td>6.3</td>\n",
              "      <td>63.5</td>\n",
              "      <td>1.8</td>\n",
              "      <td>0.4</td>\n",
              "      <td>3.8</td>\n",
              "      <td>4.22</td>\n",
              "      <td>3.8</td>\n",
              "      <td>...</td>\n",
              "      <td>77.9</td>\n",
              "      <td>23.2</td>\n",
              "      <td>29.8</td>\n",
              "      <td>46.5</td>\n",
              "      <td>17.0</td>\n",
              "      <td>143.0</td>\n",
              "      <td>8.6</td>\n",
              "      <td>11.3</td>\n",
              "      <td>0.12</td>\n",
              "      <td>16.40</td>\n",
              "    </tr>\n",
              "    <tr>\n",
              "      <th>4</th>\n",
              "      <td>5</td>\n",
              "      <td>4.2</td>\n",
              "      <td>39.1</td>\n",
              "      <td>7.2</td>\n",
              "      <td>53.7</td>\n",
              "      <td>1.6</td>\n",
              "      <td>0.3</td>\n",
              "      <td>2.3</td>\n",
              "      <td>3.93</td>\n",
              "      <td>0.4</td>\n",
              "      <td>...</td>\n",
              "      <td>80.6</td>\n",
              "      <td>23.9</td>\n",
              "      <td>29.7</td>\n",
              "      <td>42.7</td>\n",
              "      <td>15.1</td>\n",
              "      <td>236.0</td>\n",
              "      <td>19.5</td>\n",
              "      <td>12.8</td>\n",
              "      <td>0.22</td>\n",
              "      <td>24.80</td>\n",
              "    </tr>\n",
              "    <tr>\n",
              "      <th>...</th>\n",
              "      <td>...</td>\n",
              "      <td>...</td>\n",
              "      <td>...</td>\n",
              "      <td>...</td>\n",
              "      <td>...</td>\n",
              "      <td>...</td>\n",
              "      <td>...</td>\n",
              "      <td>...</td>\n",
              "      <td>...</td>\n",
              "      <td>...</td>\n",
              "      <td>...</td>\n",
              "      <td>...</td>\n",
              "      <td>...</td>\n",
              "      <td>...</td>\n",
              "      <td>...</td>\n",
              "      <td>...</td>\n",
              "      <td>...</td>\n",
              "      <td>...</td>\n",
              "      <td>...</td>\n",
              "      <td>...</td>\n",
              "      <td>...</td>\n",
              "    </tr>\n",
              "    <tr>\n",
              "      <th>495</th>\n",
              "      <td>496</td>\n",
              "      <td>2.7</td>\n",
              "      <td>43.4</td>\n",
              "      <td>7.1</td>\n",
              "      <td>49.5</td>\n",
              "      <td>1.2</td>\n",
              "      <td>0.2</td>\n",
              "      <td>1.3</td>\n",
              "      <td>4.77</td>\n",
              "      <td>13.2</td>\n",
              "      <td>...</td>\n",
              "      <td>86.4</td>\n",
              "      <td>27.4</td>\n",
              "      <td>31.7</td>\n",
              "      <td>37.2</td>\n",
              "      <td>12.2</td>\n",
              "      <td>169.0</td>\n",
              "      <td>10.1</td>\n",
              "      <td>14.3</td>\n",
              "      <td>0.17</td>\n",
              "      <td>28.60</td>\n",
              "    </tr>\n",
              "    <tr>\n",
              "      <th>496</th>\n",
              "      <td>497</td>\n",
              "      <td>6.2</td>\n",
              "      <td>35.0</td>\n",
              "      <td>6.9</td>\n",
              "      <td>57.6</td>\n",
              "      <td>2.2</td>\n",
              "      <td>0.4</td>\n",
              "      <td>3.6</td>\n",
              "      <td>4.82</td>\n",
              "      <td>11.6</td>\n",
              "      <td>...</td>\n",
              "      <td>76.7</td>\n",
              "      <td>24.0</td>\n",
              "      <td>31.4</td>\n",
              "      <td>37.2</td>\n",
              "      <td>13.8</td>\n",
              "      <td>177.0</td>\n",
              "      <td>9.9</td>\n",
              "      <td>13.6</td>\n",
              "      <td>0.18</td>\n",
              "      <td>29.00</td>\n",
              "    </tr>\n",
              "    <tr>\n",
              "      <th>497</th>\n",
              "      <td>498</td>\n",
              "      <td>8.4</td>\n",
              "      <td>29.2</td>\n",
              "      <td>7.3</td>\n",
              "      <td>63.5</td>\n",
              "      <td>2.0</td>\n",
              "      <td>0.5</td>\n",
              "      <td>4.3</td>\n",
              "      <td>4.40</td>\n",
              "      <td>9.9</td>\n",
              "      <td>...</td>\n",
              "      <td>68.8</td>\n",
              "      <td>22.7</td>\n",
              "      <td>33.0</td>\n",
              "      <td>38.0</td>\n",
              "      <td>10.6</td>\n",
              "      <td>133.1</td>\n",
              "      <td>9.6</td>\n",
              "      <td>12.8</td>\n",
              "      <td>0.12</td>\n",
              "      <td>24.60</td>\n",
              "    </tr>\n",
              "    <tr>\n",
              "      <th>498</th>\n",
              "      <td>499</td>\n",
              "      <td>7.4</td>\n",
              "      <td>19.0</td>\n",
              "      <td>8.5</td>\n",
              "      <td>72.5</td>\n",
              "      <td>0.8</td>\n",
              "      <td>0.3</td>\n",
              "      <td>2.9</td>\n",
              "      <td>3.34</td>\n",
              "      <td>7.4</td>\n",
              "      <td>...</td>\n",
              "      <td>70.6</td>\n",
              "      <td>21.9</td>\n",
              "      <td>30.9</td>\n",
              "      <td>36.2</td>\n",
              "      <td>11.0</td>\n",
              "      <td>125.0</td>\n",
              "      <td>10.7</td>\n",
              "      <td>15.9</td>\n",
              "      <td>0.13</td>\n",
              "      <td>33.60</td>\n",
              "    </tr>\n",
              "    <tr>\n",
              "      <th>499</th>\n",
              "      <td>500</td>\n",
              "      <td>12.9</td>\n",
              "      <td>15.5</td>\n",
              "      <td>9.1</td>\n",
              "      <td>75.4</td>\n",
              "      <td>0.6</td>\n",
              "      <td>0.4</td>\n",
              "      <td>3.0</td>\n",
              "      <td>4.27</td>\n",
              "      <td>10.3</td>\n",
              "      <td>...</td>\n",
              "      <td>72.0</td>\n",
              "      <td>24.4</td>\n",
              "      <td>33.5</td>\n",
              "      <td>40.7</td>\n",
              "      <td>12.3</td>\n",
              "      <td>244.0</td>\n",
              "      <td>9.7</td>\n",
              "      <td>13.8</td>\n",
              "      <td>0.23</td>\n",
              "      <td>26.14</td>\n",
              "    </tr>\n",
              "  </tbody>\n",
              "</table>\n",
              "<p>500 rows × 21 columns</p>\n",
              "</div>"
            ],
            "text/plain": [
              "      ID   WBC  LYMp  MIDp  NEUTp  LYMn  MIDn  NEUTn   RBC   HGB  ...   MCV  \\\n",
              "0      1  10.0  43.2   6.7   50.1   4.3   0.7    5.0  2.77   7.3  ...  87.7   \n",
              "1      2  10.0  42.4   5.3   52.3   4.2   0.5    5.3  2.84   7.3  ...  88.2   \n",
              "2      3   7.2  30.7   8.6   60.7   2.2   0.6    4.4  3.97   9.0  ...  77.0   \n",
              "3      4   6.0  30.2   6.3   63.5   1.8   0.4    3.8  4.22   3.8  ...  77.9   \n",
              "4      5   4.2  39.1   7.2   53.7   1.6   0.3    2.3  3.93   0.4  ...  80.6   \n",
              "..   ...   ...   ...   ...    ...   ...   ...    ...   ...   ...  ...   ...   \n",
              "495  496   2.7  43.4   7.1   49.5   1.2   0.2    1.3  4.77  13.2  ...  86.4   \n",
              "496  497   6.2  35.0   6.9   57.6   2.2   0.4    3.6  4.82  11.6  ...  76.7   \n",
              "497  498   8.4  29.2   7.3   63.5   2.0   0.5    4.3  4.40   9.9  ...  68.8   \n",
              "498  499   7.4  19.0   8.5   72.5   0.8   0.3    2.9  3.34   7.4  ...  70.6   \n",
              "499  500  12.9  15.5   9.1   75.4   0.6   0.4    3.0  4.27  10.3  ...  72.0   \n",
              "\n",
              "      MCH  MCHC  RDWSD  RDWCV    PLT   MPV   PDW   PCT   PLCR  \n",
              "0    26.3  30.1   35.3   11.4  189.0   9.2  12.5  0.17  22.30  \n",
              "1    25.7  20.2   35.3   11.4  180.0   8.9  12.5  0.16  19.50  \n",
              "2    22.6  29.5   37.2   13.7  148.0  10.1  14.3  0.14  30.50  \n",
              "3    23.2  29.8   46.5   17.0  143.0   8.6  11.3  0.12  16.40  \n",
              "4    23.9  29.7   42.7   15.1  236.0  19.5  12.8  0.22  24.80  \n",
              "..    ...   ...    ...    ...    ...   ...   ...   ...    ...  \n",
              "495  27.4  31.7   37.2   12.2  169.0  10.1  14.3  0.17  28.60  \n",
              "496  24.0  31.4   37.2   13.8  177.0   9.9  13.6  0.18  29.00  \n",
              "497  22.7  33.0   38.0   10.6  133.1   9.6  12.8  0.12  24.60  \n",
              "498  21.9  30.9   36.2   11.0  125.0  10.7  15.9  0.13  33.60  \n",
              "499  24.4  33.5   40.7   12.3  244.0   9.7  13.8  0.23  26.14  \n",
              "\n",
              "[500 rows x 21 columns]"
            ]
          },
          "execution_count": 14,
          "metadata": {},
          "output_type": "execute_result"
        }
      ],
      "source": [
        "df"
      ]
    },
    {
      "cell_type": "code",
      "execution_count": 15,
      "metadata": {
        "id": "i44qTfb10iuw"
      },
      "outputs": [],
      "source": [
        "# Created the Target variable"
      ]
    },
    {
      "cell_type": "code",
      "execution_count": 16,
      "metadata": {
        "id": "Xb_LycK7l7y6"
      },
      "outputs": [],
      "source": [
        "def categorize_thalassemia(row):\n",
        "    if 60 <= row['MCV'] <= 70 and 19 <= row['MCH'] <= 23 and 6 <= row['HGB'] <= 11 and 4.5 <= row['RBC'] <= 6.3:\n",
        "        return 'Beta-Thalassemia Minor'\n",
        "    elif 50 <= row['MCV'] <= 70 and 12 <= row['MCH'] <= 20 and 6 <= row['HGB'] and 4.5 <= row['RBC'] <= 6.3:\n",
        "        return 'Beta-Thalassemia Major'\n",
        "    elif row['MCV'] <= 79 and row['MCH'] < 27 and 7 <= row['HGB'] <= 10 and 4.5 <= row['RBC'] <= 6.3:\n",
        "        return 'Alpha-Thalassemia Minor'\n",
        "    elif row['MCV'] <= 79 and row['MCH'] < 27 and 5 <= row['HGB'] <= 6 and 4.5 <= row['RBC'] <= 6.3:\n",
        "        return 'Alpha-Thalassemia Major'\n",
        "    else:\n",
        "        return 'Normal'"
      ]
    },
    {
      "cell_type": "code",
      "execution_count": 17,
      "metadata": {
        "id": "40l2WYMvy2EY"
      },
      "outputs": [],
      "source": [
        "df['Target'] = df.apply(categorize_thalassemia, axis=1)"
      ]
    },
    {
      "cell_type": "code",
      "execution_count": 18,
      "metadata": {
        "colab": {
          "base_uri": "https://localhost:8080/",
          "height": 423
        },
        "id": "9ZBDSQRzy9NI",
        "outputId": "35445512-815d-46e4-b9fe-0f9ca8087950"
      },
      "outputs": [
        {
          "data": {
            "text/html": [
              "<div>\n",
              "<style scoped>\n",
              "    .dataframe tbody tr th:only-of-type {\n",
              "        vertical-align: middle;\n",
              "    }\n",
              "\n",
              "    .dataframe tbody tr th {\n",
              "        vertical-align: top;\n",
              "    }\n",
              "\n",
              "    .dataframe thead th {\n",
              "        text-align: right;\n",
              "    }\n",
              "</style>\n",
              "<table border=\"1\" class=\"dataframe\">\n",
              "  <thead>\n",
              "    <tr style=\"text-align: right;\">\n",
              "      <th></th>\n",
              "      <th>ID</th>\n",
              "      <th>WBC</th>\n",
              "      <th>LYMp</th>\n",
              "      <th>MIDp</th>\n",
              "      <th>NEUTp</th>\n",
              "      <th>LYMn</th>\n",
              "      <th>MIDn</th>\n",
              "      <th>NEUTn</th>\n",
              "      <th>RBC</th>\n",
              "      <th>HGB</th>\n",
              "      <th>...</th>\n",
              "      <th>MCH</th>\n",
              "      <th>MCHC</th>\n",
              "      <th>RDWSD</th>\n",
              "      <th>RDWCV</th>\n",
              "      <th>PLT</th>\n",
              "      <th>MPV</th>\n",
              "      <th>PDW</th>\n",
              "      <th>PCT</th>\n",
              "      <th>PLCR</th>\n",
              "      <th>Target</th>\n",
              "    </tr>\n",
              "  </thead>\n",
              "  <tbody>\n",
              "    <tr>\n",
              "      <th>0</th>\n",
              "      <td>1</td>\n",
              "      <td>10.0</td>\n",
              "      <td>43.2</td>\n",
              "      <td>6.7</td>\n",
              "      <td>50.1</td>\n",
              "      <td>4.3</td>\n",
              "      <td>0.7</td>\n",
              "      <td>5.0</td>\n",
              "      <td>2.77</td>\n",
              "      <td>7.3</td>\n",
              "      <td>...</td>\n",
              "      <td>26.3</td>\n",
              "      <td>30.1</td>\n",
              "      <td>35.3</td>\n",
              "      <td>11.4</td>\n",
              "      <td>189.0</td>\n",
              "      <td>9.2</td>\n",
              "      <td>12.5</td>\n",
              "      <td>0.17</td>\n",
              "      <td>22.30</td>\n",
              "      <td>Normal</td>\n",
              "    </tr>\n",
              "    <tr>\n",
              "      <th>1</th>\n",
              "      <td>2</td>\n",
              "      <td>10.0</td>\n",
              "      <td>42.4</td>\n",
              "      <td>5.3</td>\n",
              "      <td>52.3</td>\n",
              "      <td>4.2</td>\n",
              "      <td>0.5</td>\n",
              "      <td>5.3</td>\n",
              "      <td>2.84</td>\n",
              "      <td>7.3</td>\n",
              "      <td>...</td>\n",
              "      <td>25.7</td>\n",
              "      <td>20.2</td>\n",
              "      <td>35.3</td>\n",
              "      <td>11.4</td>\n",
              "      <td>180.0</td>\n",
              "      <td>8.9</td>\n",
              "      <td>12.5</td>\n",
              "      <td>0.16</td>\n",
              "      <td>19.50</td>\n",
              "      <td>Normal</td>\n",
              "    </tr>\n",
              "    <tr>\n",
              "      <th>2</th>\n",
              "      <td>3</td>\n",
              "      <td>7.2</td>\n",
              "      <td>30.7</td>\n",
              "      <td>8.6</td>\n",
              "      <td>60.7</td>\n",
              "      <td>2.2</td>\n",
              "      <td>0.6</td>\n",
              "      <td>4.4</td>\n",
              "      <td>3.97</td>\n",
              "      <td>9.0</td>\n",
              "      <td>...</td>\n",
              "      <td>22.6</td>\n",
              "      <td>29.5</td>\n",
              "      <td>37.2</td>\n",
              "      <td>13.7</td>\n",
              "      <td>148.0</td>\n",
              "      <td>10.1</td>\n",
              "      <td>14.3</td>\n",
              "      <td>0.14</td>\n",
              "      <td>30.50</td>\n",
              "      <td>Normal</td>\n",
              "    </tr>\n",
              "    <tr>\n",
              "      <th>3</th>\n",
              "      <td>4</td>\n",
              "      <td>6.0</td>\n",
              "      <td>30.2</td>\n",
              "      <td>6.3</td>\n",
              "      <td>63.5</td>\n",
              "      <td>1.8</td>\n",
              "      <td>0.4</td>\n",
              "      <td>3.8</td>\n",
              "      <td>4.22</td>\n",
              "      <td>3.8</td>\n",
              "      <td>...</td>\n",
              "      <td>23.2</td>\n",
              "      <td>29.8</td>\n",
              "      <td>46.5</td>\n",
              "      <td>17.0</td>\n",
              "      <td>143.0</td>\n",
              "      <td>8.6</td>\n",
              "      <td>11.3</td>\n",
              "      <td>0.12</td>\n",
              "      <td>16.40</td>\n",
              "      <td>Normal</td>\n",
              "    </tr>\n",
              "    <tr>\n",
              "      <th>4</th>\n",
              "      <td>5</td>\n",
              "      <td>4.2</td>\n",
              "      <td>39.1</td>\n",
              "      <td>7.2</td>\n",
              "      <td>53.7</td>\n",
              "      <td>1.6</td>\n",
              "      <td>0.3</td>\n",
              "      <td>2.3</td>\n",
              "      <td>3.93</td>\n",
              "      <td>0.4</td>\n",
              "      <td>...</td>\n",
              "      <td>23.9</td>\n",
              "      <td>29.7</td>\n",
              "      <td>42.7</td>\n",
              "      <td>15.1</td>\n",
              "      <td>236.0</td>\n",
              "      <td>19.5</td>\n",
              "      <td>12.8</td>\n",
              "      <td>0.22</td>\n",
              "      <td>24.80</td>\n",
              "      <td>Normal</td>\n",
              "    </tr>\n",
              "    <tr>\n",
              "      <th>...</th>\n",
              "      <td>...</td>\n",
              "      <td>...</td>\n",
              "      <td>...</td>\n",
              "      <td>...</td>\n",
              "      <td>...</td>\n",
              "      <td>...</td>\n",
              "      <td>...</td>\n",
              "      <td>...</td>\n",
              "      <td>...</td>\n",
              "      <td>...</td>\n",
              "      <td>...</td>\n",
              "      <td>...</td>\n",
              "      <td>...</td>\n",
              "      <td>...</td>\n",
              "      <td>...</td>\n",
              "      <td>...</td>\n",
              "      <td>...</td>\n",
              "      <td>...</td>\n",
              "      <td>...</td>\n",
              "      <td>...</td>\n",
              "      <td>...</td>\n",
              "    </tr>\n",
              "    <tr>\n",
              "      <th>495</th>\n",
              "      <td>496</td>\n",
              "      <td>2.7</td>\n",
              "      <td>43.4</td>\n",
              "      <td>7.1</td>\n",
              "      <td>49.5</td>\n",
              "      <td>1.2</td>\n",
              "      <td>0.2</td>\n",
              "      <td>1.3</td>\n",
              "      <td>4.77</td>\n",
              "      <td>13.2</td>\n",
              "      <td>...</td>\n",
              "      <td>27.4</td>\n",
              "      <td>31.7</td>\n",
              "      <td>37.2</td>\n",
              "      <td>12.2</td>\n",
              "      <td>169.0</td>\n",
              "      <td>10.1</td>\n",
              "      <td>14.3</td>\n",
              "      <td>0.17</td>\n",
              "      <td>28.60</td>\n",
              "      <td>Normal</td>\n",
              "    </tr>\n",
              "    <tr>\n",
              "      <th>496</th>\n",
              "      <td>497</td>\n",
              "      <td>6.2</td>\n",
              "      <td>35.0</td>\n",
              "      <td>6.9</td>\n",
              "      <td>57.6</td>\n",
              "      <td>2.2</td>\n",
              "      <td>0.4</td>\n",
              "      <td>3.6</td>\n",
              "      <td>4.82</td>\n",
              "      <td>11.6</td>\n",
              "      <td>...</td>\n",
              "      <td>24.0</td>\n",
              "      <td>31.4</td>\n",
              "      <td>37.2</td>\n",
              "      <td>13.8</td>\n",
              "      <td>177.0</td>\n",
              "      <td>9.9</td>\n",
              "      <td>13.6</td>\n",
              "      <td>0.18</td>\n",
              "      <td>29.00</td>\n",
              "      <td>Normal</td>\n",
              "    </tr>\n",
              "    <tr>\n",
              "      <th>497</th>\n",
              "      <td>498</td>\n",
              "      <td>8.4</td>\n",
              "      <td>29.2</td>\n",
              "      <td>7.3</td>\n",
              "      <td>63.5</td>\n",
              "      <td>2.0</td>\n",
              "      <td>0.5</td>\n",
              "      <td>4.3</td>\n",
              "      <td>4.40</td>\n",
              "      <td>9.9</td>\n",
              "      <td>...</td>\n",
              "      <td>22.7</td>\n",
              "      <td>33.0</td>\n",
              "      <td>38.0</td>\n",
              "      <td>10.6</td>\n",
              "      <td>133.1</td>\n",
              "      <td>9.6</td>\n",
              "      <td>12.8</td>\n",
              "      <td>0.12</td>\n",
              "      <td>24.60</td>\n",
              "      <td>Normal</td>\n",
              "    </tr>\n",
              "    <tr>\n",
              "      <th>498</th>\n",
              "      <td>499</td>\n",
              "      <td>7.4</td>\n",
              "      <td>19.0</td>\n",
              "      <td>8.5</td>\n",
              "      <td>72.5</td>\n",
              "      <td>0.8</td>\n",
              "      <td>0.3</td>\n",
              "      <td>2.9</td>\n",
              "      <td>3.34</td>\n",
              "      <td>7.4</td>\n",
              "      <td>...</td>\n",
              "      <td>21.9</td>\n",
              "      <td>30.9</td>\n",
              "      <td>36.2</td>\n",
              "      <td>11.0</td>\n",
              "      <td>125.0</td>\n",
              "      <td>10.7</td>\n",
              "      <td>15.9</td>\n",
              "      <td>0.13</td>\n",
              "      <td>33.60</td>\n",
              "      <td>Normal</td>\n",
              "    </tr>\n",
              "    <tr>\n",
              "      <th>499</th>\n",
              "      <td>500</td>\n",
              "      <td>12.9</td>\n",
              "      <td>15.5</td>\n",
              "      <td>9.1</td>\n",
              "      <td>75.4</td>\n",
              "      <td>0.6</td>\n",
              "      <td>0.4</td>\n",
              "      <td>3.0</td>\n",
              "      <td>4.27</td>\n",
              "      <td>10.3</td>\n",
              "      <td>...</td>\n",
              "      <td>24.4</td>\n",
              "      <td>33.5</td>\n",
              "      <td>40.7</td>\n",
              "      <td>12.3</td>\n",
              "      <td>244.0</td>\n",
              "      <td>9.7</td>\n",
              "      <td>13.8</td>\n",
              "      <td>0.23</td>\n",
              "      <td>26.14</td>\n",
              "      <td>Normal</td>\n",
              "    </tr>\n",
              "  </tbody>\n",
              "</table>\n",
              "<p>500 rows × 22 columns</p>\n",
              "</div>"
            ],
            "text/plain": [
              "      ID   WBC  LYMp  MIDp  NEUTp  LYMn  MIDn  NEUTn   RBC   HGB  ...   MCH  \\\n",
              "0      1  10.0  43.2   6.7   50.1   4.3   0.7    5.0  2.77   7.3  ...  26.3   \n",
              "1      2  10.0  42.4   5.3   52.3   4.2   0.5    5.3  2.84   7.3  ...  25.7   \n",
              "2      3   7.2  30.7   8.6   60.7   2.2   0.6    4.4  3.97   9.0  ...  22.6   \n",
              "3      4   6.0  30.2   6.3   63.5   1.8   0.4    3.8  4.22   3.8  ...  23.2   \n",
              "4      5   4.2  39.1   7.2   53.7   1.6   0.3    2.3  3.93   0.4  ...  23.9   \n",
              "..   ...   ...   ...   ...    ...   ...   ...    ...   ...   ...  ...   ...   \n",
              "495  496   2.7  43.4   7.1   49.5   1.2   0.2    1.3  4.77  13.2  ...  27.4   \n",
              "496  497   6.2  35.0   6.9   57.6   2.2   0.4    3.6  4.82  11.6  ...  24.0   \n",
              "497  498   8.4  29.2   7.3   63.5   2.0   0.5    4.3  4.40   9.9  ...  22.7   \n",
              "498  499   7.4  19.0   8.5   72.5   0.8   0.3    2.9  3.34   7.4  ...  21.9   \n",
              "499  500  12.9  15.5   9.1   75.4   0.6   0.4    3.0  4.27  10.3  ...  24.4   \n",
              "\n",
              "     MCHC  RDWSD  RDWCV    PLT   MPV   PDW   PCT   PLCR  Target  \n",
              "0    30.1   35.3   11.4  189.0   9.2  12.5  0.17  22.30  Normal  \n",
              "1    20.2   35.3   11.4  180.0   8.9  12.5  0.16  19.50  Normal  \n",
              "2    29.5   37.2   13.7  148.0  10.1  14.3  0.14  30.50  Normal  \n",
              "3    29.8   46.5   17.0  143.0   8.6  11.3  0.12  16.40  Normal  \n",
              "4    29.7   42.7   15.1  236.0  19.5  12.8  0.22  24.80  Normal  \n",
              "..    ...    ...    ...    ...   ...   ...   ...    ...     ...  \n",
              "495  31.7   37.2   12.2  169.0  10.1  14.3  0.17  28.60  Normal  \n",
              "496  31.4   37.2   13.8  177.0   9.9  13.6  0.18  29.00  Normal  \n",
              "497  33.0   38.0   10.6  133.1   9.6  12.8  0.12  24.60  Normal  \n",
              "498  30.9   36.2   11.0  125.0  10.7  15.9  0.13  33.60  Normal  \n",
              "499  33.5   40.7   12.3  244.0   9.7  13.8  0.23  26.14  Normal  \n",
              "\n",
              "[500 rows x 22 columns]"
            ]
          },
          "execution_count": 18,
          "metadata": {},
          "output_type": "execute_result"
        }
      ],
      "source": [
        "df"
      ]
    },
    {
      "cell_type": "code",
      "execution_count": 19,
      "metadata": {
        "colab": {
          "base_uri": "https://localhost:8080/"
        },
        "id": "isgM6Nku00Ln",
        "outputId": "419c6e4c-6ec8-49cc-9f3c-2d11eec87f5d"
      },
      "outputs": [
        {
          "data": {
            "text/plain": [
              "ID        0\n",
              "WBC       0\n",
              "LYMp      0\n",
              "MIDp      0\n",
              "NEUTp     0\n",
              "LYMn      0\n",
              "MIDn      0\n",
              "NEUTn     0\n",
              "RBC       0\n",
              "HGB       0\n",
              "HCT       0\n",
              "MCV       0\n",
              "MCH       0\n",
              "MCHC      0\n",
              "RDWSD     0\n",
              "RDWCV     0\n",
              "PLT       0\n",
              "MPV       0\n",
              "PDW       0\n",
              "PCT       0\n",
              "PLCR      0\n",
              "Target    0\n",
              "dtype: int64"
            ]
          },
          "execution_count": 19,
          "metadata": {},
          "output_type": "execute_result"
        }
      ],
      "source": [
        "df.isnull().sum()"
      ]
    },
    {
      "cell_type": "code",
      "execution_count": 20,
      "metadata": {
        "colab": {
          "base_uri": "https://localhost:8080/"
        },
        "id": "xTFE4nat1AeC",
        "outputId": "b90a88d3-4b1f-4a71-93ae-35c4dd721e58"
      },
      "outputs": [
        {
          "data": {
            "text/plain": [
              "0"
            ]
          },
          "execution_count": 20,
          "metadata": {},
          "output_type": "execute_result"
        }
      ],
      "source": [
        "df.duplicated().sum()"
      ]
    },
    {
      "cell_type": "code",
      "execution_count": 21,
      "metadata": {
        "colab": {
          "base_uri": "https://localhost:8080/"
        },
        "id": "q8c_212qzE2y",
        "outputId": "9e9b5788-bc42-4113-82a0-91e84ebccc4c"
      },
      "outputs": [
        {
          "name": "stdout",
          "output_type": "stream",
          "text": [
            "Target\n",
            "Normal                     454\n",
            "Beta-Thalassemia Major      17\n",
            "Beta-Thalassemia Minor      16\n",
            "Alpha-Thalassemia Minor     13\n",
            "Name: count, dtype: int64\n"
          ]
        }
      ],
      "source": [
        "print(df['Target'].value_counts())"
      ]
    },
    {
      "cell_type": "code",
      "execution_count": 22,
      "metadata": {
        "colab": {
          "base_uri": "https://localhost:8080/",
          "height": 34
        },
        "id": "BkJ7FU5k-_UA",
        "outputId": "b37f30cc-f876-4f69-a856-2331526761bb"
      },
      "outputs": [
        {
          "data": {
            "text/html": [
              "<a href='thalassemia_data.csv' target='_blank'>thalassemia_data.csv</a><br>"
            ],
            "text/plain": [
              "c:\\Users\\Lenovo\\OneDrive\\Desktop\\Thalessimia\\thalassemia_data.csv"
            ]
          },
          "execution_count": 22,
          "metadata": {},
          "output_type": "execute_result"
        }
      ],
      "source": [
        "# Convert DataFrame to CSV\n",
        "csv_filename = 'thalassemia_data.csv'\n",
        "df.to_csv(csv_filename, index=False)\n",
        "\n",
        "# Provide a download link for the CSV file\n",
        "from IPython.display import FileLink\n",
        "FileLink(csv_filename)"
      ]
    },
    {
      "cell_type": "code",
      "execution_count": 23,
      "metadata": {
        "id": "08ZH93Kj5m_C"
      },
      "outputs": [],
      "source": [
        "df = df.drop(columns=['MPV','NEUTp','LYMn','LYMp','PDW','PLCR','WBC','MIDn','NEUTn','MIDp','PCT','PLT','RDWSD','RDWCV','HCT'])"
      ]
    },
    {
      "cell_type": "code",
      "execution_count": 24,
      "metadata": {
        "colab": {
          "base_uri": "https://localhost:8080/",
          "height": 564
        },
        "id": "G4MuhIzif_-t",
        "outputId": "0000d6b3-6c2e-4261-b676-562d6495bea5"
      },
      "outputs": [
        {
          "data": {
            "image/png": "[encoded data removed]",
            "text/plain": [
              "<Figure size 1000x600 with 1 Axes>"
            ]
          },
          "metadata": {},
          "output_type": "display_data"
        }
      ],
      "source": [
        "plt.figure(figsize=(10, 6))\n",
        "sns.countplot(x='Target', data=df, color='lightseagreen')\n",
        "plt.title('Distribution of Target Variable (Before SMOTE)')\n",
        "plt.show()"
      ]
    },
    {
      "cell_type": "code",
      "execution_count": 25,
      "metadata": {
        "id": "bmt7JjJp0dih"
      },
      "outputs": [],
      "source": [
        "# The Dataset is Unbalanced"
      ]
    },
    {
      "cell_type": "code",
      "execution_count": 27,
      "metadata": {
        "id": "uIjsvl9o0gmk"
      },
      "outputs": [],
      "source": [
        "from imblearn.over_sampling import SMOTE\n",
        "\n",
        "X = df.drop(columns=['ID', 'Target'])\n",
        "y = df['Target']\n",
        "\n",
        "smote = SMOTE(random_state=42)\n",
        "X_resampled, y_resampled = smote.fit_resample(X, y)"
      ]
    },
    {
      "cell_type": "code",
      "execution_count": 28,
      "metadata": {
        "id": "6-jXnB4l3qTL"
      },
      "outputs": [],
      "source": [
        "resampled_df = pd.DataFrame(X_resampled, columns=X.columns)\n",
        "resampled_df['Target'] = y_resampled"
      ]
    },
    {
      "cell_type": "code",
      "execution_count": 29,
      "metadata": {
        "colab": {
          "base_uri": "https://localhost:8080/"
        },
        "id": "2ia7zaDo35Xf",
        "outputId": "0683e441-9407-4caf-a0f7-33b1975cadf9"
      },
      "outputs": [
        {
          "name": "stdout",
          "output_type": "stream",
          "text": [
            "Target\n",
            "Normal                     454\n",
            "Beta-Thalassemia Major     454\n",
            "Alpha-Thalassemia Minor    454\n",
            "Beta-Thalassemia Minor     454\n",
            "Name: count, dtype: int64\n"
          ]
        }
      ],
      "source": [
        "print(resampled_df['Target'].value_counts())"
      ]
    },
    {
      "cell_type": "code",
      "execution_count": 30,
      "metadata": {
        "colab": {
          "base_uri": "https://localhost:8080/",
          "height": 564
        },
        "id": "DwCvloGCgfFN",
        "outputId": "b4c00c19-04e6-4984-dd8a-95f88d21d90b"
      },
      "outputs": [
        {
          "data": {
            "image/png": "[encoded data removed]",
            "text/plain": [
              "<Figure size 1000x600 with 1 Axes>"
            ]
          },
          "metadata": {},
          "output_type": "display_data"
        }
      ],
      "source": [
        "plt.figure(figsize=(10, 6))\n",
        "sns.countplot(x='Target', data=resampled_df, color='teal')\n",
        "plt.title('Distribution of Target Variable (After SMOTE)')\n",
        "plt.show()"
      ]
    },
    {
      "cell_type": "code",
      "execution_count": 31,
      "metadata": {
        "colab": {
          "base_uri": "https://localhost:8080/",
          "height": 423
        },
        "id": "ALDbWYOa4-hP",
        "outputId": "b980bce0-51f8-4119-f86c-343cb541d76a"
      },
      "outputs": [
        {
          "data": {
            "text/html": [
              "<div>\n",
              "<style scoped>\n",
              "    .dataframe tbody tr th:only-of-type {\n",
              "        vertical-align: middle;\n",
              "    }\n",
              "\n",
              "    .dataframe tbody tr th {\n",
              "        vertical-align: top;\n",
              "    }\n",
              "\n",
              "    .dataframe thead th {\n",
              "        text-align: right;\n",
              "    }\n",
              "</style>\n",
              "<table border=\"1\" class=\"dataframe\">\n",
              "  <thead>\n",
              "    <tr style=\"text-align: right;\">\n",
              "      <th></th>\n",
              "      <th>RBC</th>\n",
              "      <th>HGB</th>\n",
              "      <th>MCV</th>\n",
              "      <th>MCH</th>\n",
              "      <th>MCHC</th>\n",
              "      <th>Target</th>\n",
              "    </tr>\n",
              "  </thead>\n",
              "  <tbody>\n",
              "    <tr>\n",
              "      <th>0</th>\n",
              "      <td>2.770000</td>\n",
              "      <td>7.300000</td>\n",
              "      <td>87.700000</td>\n",
              "      <td>26.300000</td>\n",
              "      <td>30.100000</td>\n",
              "      <td>Normal</td>\n",
              "    </tr>\n",
              "    <tr>\n",
              "      <th>1</th>\n",
              "      <td>2.840000</td>\n",
              "      <td>7.300000</td>\n",
              "      <td>88.200000</td>\n",
              "      <td>25.700000</td>\n",
              "      <td>20.200000</td>\n",
              "      <td>Normal</td>\n",
              "    </tr>\n",
              "    <tr>\n",
              "      <th>2</th>\n",
              "      <td>3.970000</td>\n",
              "      <td>9.000000</td>\n",
              "      <td>77.000000</td>\n",
              "      <td>22.600000</td>\n",
              "      <td>29.500000</td>\n",
              "      <td>Normal</td>\n",
              "    </tr>\n",
              "    <tr>\n",
              "      <th>3</th>\n",
              "      <td>4.220000</td>\n",
              "      <td>3.800000</td>\n",
              "      <td>77.900000</td>\n",
              "      <td>23.200000</td>\n",
              "      <td>29.800000</td>\n",
              "      <td>Normal</td>\n",
              "    </tr>\n",
              "    <tr>\n",
              "      <th>4</th>\n",
              "      <td>3.930000</td>\n",
              "      <td>0.400000</td>\n",
              "      <td>80.600000</td>\n",
              "      <td>23.900000</td>\n",
              "      <td>29.700000</td>\n",
              "      <td>Normal</td>\n",
              "    </tr>\n",
              "    <tr>\n",
              "      <th>...</th>\n",
              "      <td>...</td>\n",
              "      <td>...</td>\n",
              "      <td>...</td>\n",
              "      <td>...</td>\n",
              "      <td>...</td>\n",
              "      <td>...</td>\n",
              "    </tr>\n",
              "    <tr>\n",
              "      <th>1811</th>\n",
              "      <td>4.721445</td>\n",
              "      <td>9.755024</td>\n",
              "      <td>67.962967</td>\n",
              "      <td>20.600000</td>\n",
              "      <td>30.403349</td>\n",
              "      <td>Beta-Thalassemia Minor</td>\n",
              "    </tr>\n",
              "    <tr>\n",
              "      <th>1812</th>\n",
              "      <td>4.938225</td>\n",
              "      <td>9.885251</td>\n",
              "      <td>68.146500</td>\n",
              "      <td>19.684500</td>\n",
              "      <td>28.861250</td>\n",
              "      <td>Beta-Thalassemia Minor</td>\n",
              "    </tr>\n",
              "    <tr>\n",
              "      <th>1813</th>\n",
              "      <td>4.542204</td>\n",
              "      <td>9.300000</td>\n",
              "      <td>68.829276</td>\n",
              "      <td>20.453619</td>\n",
              "      <td>29.765791</td>\n",
              "      <td>Beta-Thalassemia Minor</td>\n",
              "    </tr>\n",
              "    <tr>\n",
              "      <th>1814</th>\n",
              "      <td>4.580168</td>\n",
              "      <td>9.376270</td>\n",
              "      <td>68.693223</td>\n",
              "      <td>20.462715</td>\n",
              "      <td>29.832207</td>\n",
              "      <td>Beta-Thalassemia Minor</td>\n",
              "    </tr>\n",
              "    <tr>\n",
              "      <th>1815</th>\n",
              "      <td>4.890495</td>\n",
              "      <td>10.900000</td>\n",
              "      <td>68.742371</td>\n",
              "      <td>19.881340</td>\n",
              "      <td>28.950825</td>\n",
              "      <td>Beta-Thalassemia Minor</td>\n",
              "    </tr>\n",
              "  </tbody>\n",
              "</table>\n",
              "<p>1816 rows × 6 columns</p>\n",
              "</div>"
            ],
            "text/plain": [
              "           RBC        HGB        MCV        MCH       MCHC  \\\n",
              "0     2.770000   7.300000  87.700000  26.300000  30.100000   \n",
              "1     2.840000   7.300000  88.200000  25.700000  20.200000   \n",
              "2     3.970000   9.000000  77.000000  22.600000  29.500000   \n",
              "3     4.220000   3.800000  77.900000  23.200000  29.800000   \n",
              "4     3.930000   0.400000  80.600000  23.900000  29.700000   \n",
              "...        ...        ...        ...        ...        ...   \n",
              "1811  4.721445   9.755024  67.962967  20.600000  30.403349   \n",
              "1812  4.938225   9.885251  68.146500  19.684500  28.861250   \n",
              "1813  4.542204   9.300000  68.829276  20.453619  29.765791   \n",
              "1814  4.580168   9.376270  68.693223  20.462715  29.832207   \n",
              "1815  4.890495  10.900000  68.742371  19.881340  28.950825   \n",
              "\n",
              "                      Target  \n",
              "0                     Normal  \n",
              "1                     Normal  \n",
              "2                     Normal  \n",
              "3                     Normal  \n",
              "4                     Normal  \n",
              "...                      ...  \n",
              "1811  Beta-Thalassemia Minor  \n",
              "1812  Beta-Thalassemia Minor  \n",
              "1813  Beta-Thalassemia Minor  \n",
              "1814  Beta-Thalassemia Minor  \n",
              "1815  Beta-Thalassemia Minor  \n",
              "\n",
              "[1816 rows x 6 columns]"
            ]
          },
          "execution_count": 31,
          "metadata": {},
          "output_type": "execute_result"
        }
      ],
      "source": [
        "resampled_df"
      ]
    },
    {
      "cell_type": "code",
      "execution_count": 46,
      "metadata": {},
      "outputs": [
        {
          "data": {
            "text/html": [
              "<div>\n",
              "<style scoped>\n",
              "    .dataframe tbody tr th:only-of-type {\n",
              "        vertical-align: middle;\n",
              "    }\n",
              "\n",
              "    .dataframe tbody tr th {\n",
              "        vertical-align: top;\n",
              "    }\n",
              "\n",
              "    .dataframe thead th {\n",
              "        text-align: right;\n",
              "    }\n",
              "</style>\n",
              "<table border=\"1\" class=\"dataframe\">\n",
              "  <thead>\n",
              "    <tr style=\"text-align: right;\">\n",
              "      <th></th>\n",
              "      <th>RBC</th>\n",
              "      <th>HGB</th>\n",
              "      <th>MCV</th>\n",
              "      <th>MCH</th>\n",
              "      <th>MCHC</th>\n",
              "      <th>Target</th>\n",
              "    </tr>\n",
              "  </thead>\n",
              "  <tbody>\n",
              "    <tr>\n",
              "      <th>19</th>\n",
              "      <td>4.54</td>\n",
              "      <td>9.6</td>\n",
              "      <td>71.4</td>\n",
              "      <td>21.1</td>\n",
              "      <td>29.6</td>\n",
              "      <td>Alpha-Thalassemia Minor</td>\n",
              "    </tr>\n",
              "    <tr>\n",
              "      <th>20</th>\n",
              "      <td>4.77</td>\n",
              "      <td>9.8</td>\n",
              "      <td>71.6</td>\n",
              "      <td>20.5</td>\n",
              "      <td>28.7</td>\n",
              "      <td>Alpha-Thalassemia Minor</td>\n",
              "    </tr>\n",
              "    <tr>\n",
              "      <th>137</th>\n",
              "      <td>4.62</td>\n",
              "      <td>9.3</td>\n",
              "      <td>71.5</td>\n",
              "      <td>20.1</td>\n",
              "      <td>28.1</td>\n",
              "      <td>Alpha-Thalassemia Minor</td>\n",
              "    </tr>\n",
              "    <tr>\n",
              "      <th>169</th>\n",
              "      <td>4.61</td>\n",
              "      <td>10.0</td>\n",
              "      <td>75.9</td>\n",
              "      <td>21.6</td>\n",
              "      <td>28.6</td>\n",
              "      <td>Alpha-Thalassemia Minor</td>\n",
              "    </tr>\n",
              "    <tr>\n",
              "      <th>191</th>\n",
              "      <td>4.54</td>\n",
              "      <td>10.0</td>\n",
              "      <td>77.3</td>\n",
              "      <td>22.0</td>\n",
              "      <td>28.5</td>\n",
              "      <td>Alpha-Thalassemia Minor</td>\n",
              "    </tr>\n",
              "  </tbody>\n",
              "</table>\n",
              "</div>"
            ],
            "text/plain": [
              "      RBC   HGB   MCV   MCH  MCHC                   Target\n",
              "19   4.54   9.6  71.4  21.1  29.6  Alpha-Thalassemia Minor\n",
              "20   4.77   9.8  71.6  20.5  28.7  Alpha-Thalassemia Minor\n",
              "137  4.62   9.3  71.5  20.1  28.1  Alpha-Thalassemia Minor\n",
              "169  4.61  10.0  75.9  21.6  28.6  Alpha-Thalassemia Minor\n",
              "191  4.54  10.0  77.3  22.0  28.5  Alpha-Thalassemia Minor"
            ]
          },
          "execution_count": 46,
          "metadata": {},
          "output_type": "execute_result"
        }
      ],
      "source": [
        "alpha_minor_df = resampled_df[resampled_df['Target'] == 'Alpha-Thalassemia Minor']\n",
        "\n",
        "alpha_minor_df.head()"
      ]
    },
    {
      "cell_type": "code",
      "execution_count": 32,
      "metadata": {
        "id": "EK0tHkLF7q_G"
      },
      "outputs": [],
      "source": [
        "from sklearn.model_selection import train_test_split\n",
        "from sklearn.metrics import classification_report, confusion_matrix"
      ]
    },
    {
      "cell_type": "code",
      "execution_count": 33,
      "metadata": {
        "id": "o32yFOGc-zIo"
      },
      "outputs": [],
      "source": [
        "X_train, X_test, y_train, y_test = train_test_split(X_resampled, y_resampled, test_size=0.2, random_state=42)"
      ]
    },
    {
      "cell_type": "code",
      "execution_count": 34,
      "metadata": {
        "id": "McDg5DCH-7oe"
      },
      "outputs": [],
      "source": [
        "from sklearn.ensemble import RandomForestClassifier"
      ]
    },
    {
      "cell_type": "code",
      "execution_count": 35,
      "metadata": {
        "colab": {
          "base_uri": "https://localhost:8080/"
        },
        "id": "l6IzEzMMAwGt",
        "outputId": "36595ad5-c470-4104-df11-ce05dc78c260"
      },
      "outputs": [
        {
          "name": "stdout",
          "output_type": "stream",
          "text": [
            "Classification Report :-\n",
            "                         precision    recall  f1-score   support\n",
            "\n",
            "Alpha-Thalassemia Minor       1.00      1.00      1.00        84\n",
            " Beta-Thalassemia Major       0.98      1.00      0.99        93\n",
            " Beta-Thalassemia Minor       1.00      1.00      1.00        98\n",
            "                 Normal       1.00      0.98      0.99        89\n",
            "\n",
            "               accuracy                           0.99       364\n",
            "              macro avg       0.99      0.99      0.99       364\n",
            "           weighted avg       0.99      0.99      0.99       364\n",
            "\n",
            "\n",
            "\n",
            "Confusion Matrix :-\n",
            "[[84  0  0  0]\n",
            " [ 0 93  0  0]\n",
            " [ 0  0 98  0]\n",
            " [ 0  2  0 87]]\n"
          ]
        }
      ],
      "source": [
        "model = RandomForestClassifier(random_state=42)\n",
        "model.fit(X_train, y_train)\n",
        "y_pred = model.predict(X_test)\n",
        "\n",
        "print(\"Classification Report :-\")\n",
        "print(classification_report(y_test, y_pred))\n",
        "\n",
        "print(\"\\n\")\n",
        "\n",
        "print(\"Confusion Matrix :-\")\n",
        "print(confusion_matrix(y_test, y_pred))\n",
        "\n"
      ]
    },
    {
      "cell_type": "code",
      "execution_count": 36,
      "metadata": {
        "colab": {
          "base_uri": "https://localhost:8080/",
          "height": 648
        },
        "id": "SDt65Qraubm-",
        "outputId": "31107397-b0cb-4c92-c7fe-d9f076e3d14d"
      },
      "outputs": [
        {
          "data": {
            "text/plain": [
              "<Figure size 1200x1800 with 0 Axes>"
            ]
          },
          "metadata": {},
          "output_type": "display_data"
        },
        {
          "data": {
            "image/png": "[encoded data removed]",
            "text/plain": [
              "<Figure size 640x480 with 2 Axes>"
            ]
          },
          "metadata": {},
          "output_type": "display_data"
        }
      ],
      "source": [
        "from sklearn.metrics import ConfusionMatrixDisplay\n",
        "\n",
        "# Set the figure size\n",
        "plt.figure(figsize=(12, 18))\n",
        "disp = ConfusionMatrixDisplay.from_estimator(model, X_test, y_test, cmap='Blues')\n",
        "\n",
        "disp.ax_.set_title('Confusion Matrix')\n",
        "plt.xticks(rotation=90)\n",
        "plt.show()\n"
      ]
    },
    {
      "cell_type": "code",
      "execution_count": 37,
      "metadata": {
        "colab": {
          "base_uri": "https://localhost:8080/",
          "height": 607
        },
        "id": "ZAVGjBP9sTJB",
        "outputId": "fb2f0621-7257-4f12-d661-d6e030abf3f5"
      },
      "outputs": [
        {
          "data": {
            "image/png": "[encoded data removed]",
            "text/plain": [
              "<Figure size 1000x600 with 1 Axes>"
            ]
          },
          "metadata": {},
          "output_type": "display_data"
        }
      ],
      "source": [
        "importances = model.feature_importances_\n",
        "indices = np.argsort(importances)[::-1]\n",
        "features = X.columns\n",
        "\n",
        "plt.figure(figsize=(10,6))\n",
        "plt.title('Feature Importances')\n",
        "plt.bar(range(X.shape[1]), importances[indices], align='center', color='crimson')\n",
        "plt.xticks(range(X.shape[1]), [features[i] for i in indices], rotation=90)\n",
        "plt.tight_layout()\n",
        "plt.show()"
      ]
    },
    {
      "cell_type": "code",
      "execution_count": 38,
      "metadata": {
        "id": "IxdWHM7NCrRB"
      },
      "outputs": [],
      "source": [
        "# Cross Validation"
      ]
    },
    {
      "cell_type": "code",
      "execution_count": 39,
      "metadata": {
        "colab": {
          "base_uri": "https://localhost:8080/"
        },
        "id": "33lHShAnGT-e",
        "outputId": "763f12e1-b268-4076-862b-725ae5cd44b6"
      },
      "outputs": [
        {
          "name": "stdout",
          "output_type": "stream",
          "text": [
            "Cross-Validation Scores: [1.         0.99449036 0.9862259  0.99449036 0.99724518]\n",
            "Mean Accuracy: 0.9944903581267217\n",
            "Classification Report:\n",
            "                         precision    recall  f1-score   support\n",
            "\n",
            "Alpha-Thalassemia Minor       1.00      1.00      1.00        91\n",
            " Beta-Thalassemia Major       1.00      1.00      1.00        91\n",
            " Beta-Thalassemia Minor       1.00      1.00      1.00        91\n",
            "                 Normal       1.00      1.00      1.00        91\n",
            "\n",
            "               accuracy                           1.00       364\n",
            "              macro avg       1.00      1.00      1.00       364\n",
            "           weighted avg       1.00      1.00      1.00       364\n",
            "\n",
            "\n",
            "\n",
            "Confusion Matrix:\n",
            "[[91  0  0  0]\n",
            " [ 0 91  0  0]\n",
            " [ 0  0 91  0]\n",
            " [ 0  0  0 91]]\n",
            "Classification Report:\n",
            "                         precision    recall  f1-score   support\n",
            "\n",
            "Alpha-Thalassemia Minor       0.99      1.00      0.99        91\n",
            " Beta-Thalassemia Major       0.99      1.00      0.99        91\n",
            " Beta-Thalassemia Minor       1.00      1.00      1.00        90\n",
            "                 Normal       1.00      0.98      0.99        91\n",
            "\n",
            "               accuracy                           0.99       363\n",
            "              macro avg       0.99      0.99      0.99       363\n",
            "           weighted avg       0.99      0.99      0.99       363\n",
            "\n",
            "\n",
            "\n",
            "Confusion Matrix:\n",
            "[[91  0  0  0]\n",
            " [ 0 91  0  0]\n",
            " [ 0  0 90  0]\n",
            " [ 1  1  0 89]]\n",
            "Classification Report:\n",
            "                         precision    recall  f1-score   support\n",
            "\n",
            "Alpha-Thalassemia Minor       0.98      0.99      0.98        90\n",
            " Beta-Thalassemia Major       0.99      1.00      0.99        91\n",
            " Beta-Thalassemia Minor       0.99      1.00      0.99        91\n",
            "                 Normal       0.99      0.96      0.97        91\n",
            "\n",
            "               accuracy                           0.99       363\n",
            "              macro avg       0.99      0.99      0.99       363\n",
            "           weighted avg       0.99      0.99      0.99       363\n",
            "\n",
            "\n",
            "\n",
            "Confusion Matrix:\n",
            "[[89  0  0  1]\n",
            " [ 0 91  0  0]\n",
            " [ 0  0 91  0]\n",
            " [ 2  1  1 87]]\n",
            "Classification Report:\n",
            "                         precision    recall  f1-score   support\n",
            "\n",
            "Alpha-Thalassemia Minor       0.99      1.00      0.99        91\n",
            " Beta-Thalassemia Major       0.99      1.00      0.99        90\n",
            " Beta-Thalassemia Minor       1.00      1.00      1.00        91\n",
            "                 Normal       1.00      0.98      0.99        91\n",
            "\n",
            "               accuracy                           0.99       363\n",
            "              macro avg       0.99      0.99      0.99       363\n",
            "           weighted avg       0.99      0.99      0.99       363\n",
            "\n",
            "\n",
            "\n",
            "Confusion Matrix:\n",
            "[[91  0  0  0]\n",
            " [ 0 90  0  0]\n",
            " [ 0  0 91  0]\n",
            " [ 1  1  0 89]]\n",
            "Classification Report:\n",
            "                         precision    recall  f1-score   support\n",
            "\n",
            "Alpha-Thalassemia Minor       1.00      1.00      1.00        91\n",
            " Beta-Thalassemia Major       1.00      1.00      1.00        91\n",
            " Beta-Thalassemia Minor       0.99      1.00      0.99        91\n",
            "                 Normal       1.00      0.99      0.99        90\n",
            "\n",
            "               accuracy                           1.00       363\n",
            "              macro avg       1.00      1.00      1.00       363\n",
            "           weighted avg       1.00      1.00      1.00       363\n",
            "\n",
            "\n",
            "\n",
            "Confusion Matrix:\n",
            "[[91  0  0  0]\n",
            " [ 0 91  0  0]\n",
            " [ 0  0 91  0]\n",
            " [ 0  0  1 89]]\n"
          ]
        }
      ],
      "source": [
        "from sklearn.model_selection import StratifiedKFold, cross_val_score\n",
        "\n",
        "cv = StratifiedKFold(n_splits=5, shuffle=True, random_state=42)\n",
        "scores = cross_val_score(model, X_resampled, y_resampled, cv=cv, scoring='accuracy')\n",
        "\n",
        "print(\"Cross-Validation Scores:\", scores)\n",
        "print(\"Mean Accuracy:\", scores.mean())\n",
        "\n",
        "for train_idx, test_idx in cv.split(X_resampled, y_resampled):\n",
        "    X_train, X_test = X_resampled.iloc[train_idx], X_resampled.iloc[test_idx]\n",
        "    y_train, y_test = y_resampled.iloc[train_idx], y_resampled.iloc[test_idx]\n",
        "\n",
        "    model.fit(X_train, y_train)\n",
        "    y_pred = model.predict(X_test)\n",
        "\n",
        "    print(\"Classification Report:\")\n",
        "    print(classification_report(y_test, y_pred))\n",
        "    print('\\n')\n",
        "    print(\"Confusion Matrix:\")\n",
        "    print(confusion_matrix(y_test, y_pred))"
      ]
    },
    {
      "cell_type": "code",
      "execution_count": 40,
      "metadata": {
        "colab": {
          "base_uri": "https://localhost:8080/",
          "height": 564
        },
        "id": "QOjnMNkDdxyS",
        "outputId": "56b05b8d-cf9c-4375-f0b8-a3f98c2c2f40"
      },
      "outputs": [
        {
          "data": {
            "image/png": "[encoded data removed]",
            "text/plain": [
              "<Figure size 1000x600 with 1 Axes>"
            ]
          },
          "metadata": {},
          "output_type": "display_data"
        }
      ],
      "source": [
        "from sklearn.model_selection import learning_curve\n",
        "\n",
        "train_sizes, train_scores, test_scores = learning_curve(model, X_resampled, y_resampled, cv=5, n_jobs=-1)\n",
        "\n",
        "# Calculate mean and standard deviation for training set scores\n",
        "train_mean = np.mean(train_scores, axis=1)\n",
        "train_std = np.std(train_scores, axis=1)\n",
        "\n",
        "# Calculate mean and standard deviation for test set scores\n",
        "test_mean = np.mean(test_scores, axis=1)\n",
        "test_std = np.std(test_scores, axis=1)\n",
        "\n",
        "plt.figure(figsize=(10, 6))\n",
        "plt.plot(train_sizes, train_mean, 'o-', color=\"r\", label=\"Training score\")\n",
        "plt.plot(train_sizes, test_mean, 'o-', color=\"g\", label=\"Cross-validation score\")\n",
        "\n",
        "plt.fill_between(train_sizes, train_mean - train_std, train_mean + train_std, alpha=0.1, color=\"r\")\n",
        "plt.fill_between(train_sizes, test_mean - test_std, test_mean + test_std, alpha=0.1, color=\"g\")\n",
        "\n",
        "plt.title('Learning Curves')\n",
        "plt.xlabel('Training examples')\n",
        "plt.ylabel('Score')\n",
        "plt.legend(loc=\"best\")\n",
        "plt.grid()\n",
        "plt.show()\n"
      ]
    },
    {
      "cell_type": "code",
      "execution_count": 41,
      "metadata": {
        "colab": {
          "base_uri": "https://localhost:8080/"
        },
        "id": "AITcUP0c7ScS",
        "outputId": "6fdad6d9-6599-4430-efef-868fe28caaab"
      },
      "outputs": [
        {
          "name": "stdout",
          "output_type": "stream",
          "text": [
            "The predicted Thalassemia condition is: Normal\n"
          ]
        },
        {
          "name": "stderr",
          "output_type": "stream",
          "text": [
            "C:\\Users\\Lenovo\\AppData\\Roaming\\Python\\Python311\\site-packages\\sklearn\\base.py:465: UserWarning: X does not have valid feature names, but RandomForestClassifier was fitted with feature names\n",
            "  warnings.warn(\n"
          ]
        }
      ],
      "source": [
        "def take_input():\n",
        "    features = {}\n",
        "    features['RBC'] = float(input(\"Enter RBC (10^12/L): \"))\n",
        "    features['HGB'] = float(input(\"Enter Hemoglobin (g/dL): \"))\n",
        "    features['MCV'] = float(input(\"Enter Mean Corpuscular Volume (fL): \"))\n",
        "    features['MCH'] = float(input(\"Enter Mean Corpuscular Hemoglobin (pg): \"))\n",
        "    features['MCHC'] = float(input(\"Enter Mean Corpuscular Hemoglobin Concentration (g/dL): \"))\n",
        "    return features\n",
        "\n",
        "def predict(model, features):\n",
        "    # Convert features to a numpy array\n",
        "    feature_values = np.array([list(features.values())])\n",
        "    # Predict the target using the trained model\n",
        "    prediction = model.predict(feature_values)\n",
        "    return prediction\n",
        "\n",
        "# Example usage:\n",
        "user_input = take_input()\n",
        "thalassemia_condition = predict(model, user_input)\n",
        "\n",
        "print(f\"The predicted Thalassemia condition is: {thalassemia_condition[0]}\")\n"
      ]
    },
    {
      "cell_type": "code",
      "execution_count": 43,
      "metadata": {
        "colab": {
          "base_uri": "https://localhost:8080/"
        },
        "id": "PBgzBkUa-gs2",
        "outputId": "ca9a62f6-b67c-4adb-fc45-1ab20c6cec7e"
      },
      "outputs": [
        {
          "name": "stdout",
          "output_type": "stream",
          "text": [
            "Saved model to model.pkl\n"
          ]
        }
      ],
      "source": [
        "import pickle\n",
        "\n",
        "# Assuming your trained model is named 'model'\n",
        "model_filename = 'model.pkl'\n",
        "\n",
        "# Save the model to disk\n",
        "with open(model_filename, 'wb') as file:\n",
        "    pickle.dump(model, file)\n",
        "\n",
        "print(f\"Saved model to {model_filename}\")\n"
      ]
    },
    {
      "cell_type": "code",
      "execution_count": null,
      "metadata": {},
      "outputs": [],
      "source": []
    }
  ],
  "metadata": {
    "colab": {
      "provenance": []
    },
    "kernelspec": {
      "display_name": "Python 3",
      "name": "python3"
    },
    "language_info": {
      "codemirror_mode": {
        "name": "ipython",
        "version": 3
      },
      "file_extension": ".py",
      "mimetype": "text/x-python",
      "name": "python",
      "nbconvert_exporter": "python",
      "pygments_lexer": "ipython3",
      "version": "3.11.4"
    }
  },
  "nbformat": 4,
  "nbformat_minor": 0
}
